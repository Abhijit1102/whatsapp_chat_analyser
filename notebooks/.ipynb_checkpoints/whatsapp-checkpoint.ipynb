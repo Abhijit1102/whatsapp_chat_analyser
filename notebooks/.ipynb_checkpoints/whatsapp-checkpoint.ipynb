{
 "cells": [
  {
   "cell_type": "code",
   "execution_count": 1,
   "id": "7e210bee",
   "metadata": {},
   "outputs": [],
   "source": [
    "import re\n",
    "import pandas as pd"
   ]
  },
  {
   "cell_type": "code",
   "execution_count": 2,
   "id": "8e23fd84",
   "metadata": {},
   "outputs": [],
   "source": [
    "## opening txt file in reading mode\n",
    "f = open(\"data/WhatsApp_chat.txt\",'r', encoding=\"utf8\")"
   ]
  },
  {
   "cell_type": "code",
   "execution_count": 3,
   "id": "3c67bd3b",
   "metadata": {},
   "outputs": [],
   "source": [
    "data = f.read()"
   ]
  },
  {
   "cell_type": "code",
   "execution_count": 4,
   "id": "d59a250b",
   "metadata": {},
   "outputs": [],
   "source": [
    "pattern = '\\d{1,2}\\/\\d{1,2}\\/\\d{2},\\s\\d{1,2}:\\d{2}\\s[AP]M\\s-\\s'"
   ]
  },
  {
   "cell_type": "code",
   "execution_count": 5,
   "id": "a6b379b4",
   "metadata": {},
   "outputs": [],
   "source": [
    "messages = re.split(pattern, data)"
   ]
  },
  {
   "cell_type": "code",
   "execution_count": 6,
   "id": "e77f726e",
   "metadata": {},
   "outputs": [],
   "source": [
    "patterns = '\\d{1,2}\\/\\d{1,2}\\/\\d{2},\\s\\d{1,2}:\\d{2}\\s[AP]M'"
   ]
  },
  {
   "cell_type": "code",
   "execution_count": 7,
   "id": "dea924c9",
   "metadata": {},
   "outputs": [],
   "source": [
    "dates = re.findall(patterns,data)"
   ]
  },
  {
   "cell_type": "code",
   "execution_count": 8,
   "id": "8a404e1e",
   "metadata": {},
   "outputs": [],
   "source": [
    "import warnings\n",
    "warnings.filterwarnings(\"ignore\")"
   ]
  },
  {
   "cell_type": "code",
   "execution_count": 11,
   "id": "2d526354",
   "metadata": {},
   "outputs": [],
   "source": [
    "df = pd.DataFrame({\"user_message\":messages[1:],\"message_date\":dates})\n",
    "\n",
    "df[\"message_date\"] = pd.to_datetime(df[\"message_date\"])\n",
    "\n",
    "df.rename(columns={\"message_date\": \"date\"}, inplace=True)"
   ]
  },
  {
   "cell_type": "code",
   "execution_count": 12,
   "id": "eddb08d3",
   "metadata": {},
   "outputs": [
    {
     "data": {
      "text/html": [
       "<div>\n",
       "<style scoped>\n",
       "    .dataframe tbody tr th:only-of-type {\n",
       "        vertical-align: middle;\n",
       "    }\n",
       "\n",
       "    .dataframe tbody tr th {\n",
       "        vertical-align: top;\n",
       "    }\n",
       "\n",
       "    .dataframe thead th {\n",
       "        text-align: right;\n",
       "    }\n",
       "</style>\n",
       "<table border=\"1\" class=\"dataframe\">\n",
       "  <thead>\n",
       "    <tr style=\"text-align: right;\">\n",
       "      <th></th>\n",
       "      <th>date</th>\n",
       "      <th>user</th>\n",
       "      <th>messages</th>\n",
       "    </tr>\n",
       "  </thead>\n",
       "  <tbody>\n",
       "    <tr>\n",
       "      <th>0</th>\n",
       "      <td>2021-01-08 11:11:00</td>\n",
       "      <td>group_notification</td>\n",
       "      <td>Messages and calls are end-to-end encrypted. N...</td>\n",
       "    </tr>\n",
       "    <tr>\n",
       "      <th>1</th>\n",
       "      <td>2021-01-02 10:32:00</td>\n",
       "      <td>group_notification</td>\n",
       "      <td>Saptamita Biswas created group \"M.stat 1st sem...</td>\n",
       "    </tr>\n",
       "    <tr>\n",
       "      <th>2</th>\n",
       "      <td>2021-01-08 11:10:00</td>\n",
       "      <td>group_notification</td>\n",
       "      <td>Saptamita Biswas added you\\n</td>\n",
       "    </tr>\n",
       "    <tr>\n",
       "      <th>3</th>\n",
       "      <td>2021-01-08 11:30:00</td>\n",
       "      <td>Saptamita Biswas</td>\n",
       "      <td>Hlo\\n</td>\n",
       "    </tr>\n",
       "    <tr>\n",
       "      <th>4</th>\n",
       "      <td>2021-01-08 11:31:00</td>\n",
       "      <td>Saptamita Biswas</td>\n",
       "      <td>Jonali mam ne jo notes diya mam to unit 2&amp;3 mi...</td>\n",
       "    </tr>\n",
       "  </tbody>\n",
       "</table>\n",
       "</div>"
      ],
      "text/plain": [
       "                 date                user  \\\n",
       "0 2021-01-08 11:11:00  group_notification   \n",
       "1 2021-01-02 10:32:00  group_notification   \n",
       "2 2021-01-08 11:10:00  group_notification   \n",
       "3 2021-01-08 11:30:00    Saptamita Biswas   \n",
       "4 2021-01-08 11:31:00    Saptamita Biswas   \n",
       "\n",
       "                                            messages  \n",
       "0  Messages and calls are end-to-end encrypted. N...  \n",
       "1  Saptamita Biswas created group \"M.stat 1st sem...  \n",
       "2                       Saptamita Biswas added you\\n  \n",
       "3                                              Hlo\\n  \n",
       "4  Jonali mam ne jo notes diya mam to unit 2&3 mi...  "
      ]
     },
     "execution_count": 12,
     "metadata": {},
     "output_type": "execute_result"
    }
   ],
   "source": [
    "import re\n",
    "\n",
    "users = []\n",
    "msgs = []\n",
    "for msg in df[\"user_message\"]:\n",
    "    # Split the message by the first colon and space that occur\n",
    "    parts = re.split(': ', msg, maxsplit=1)\n",
    "    if len(parts) == 2:\n",
    "        user = parts[0]\n",
    "        message = parts[1]\n",
    "    else:\n",
    "        user = \"group_notification\"\n",
    "        message = parts[0]\n",
    "    users.append(user)\n",
    "    msgs.append(message)\n",
    "\n",
    "df[\"user\"] = users\n",
    "df[\"messages\"] = msgs\n",
    "\n",
    "df.drop(columns=[\"user_message\"],inplace=True)\n",
    "\n",
    "df.head()"
   ]
  },
  {
   "cell_type": "code",
   "execution_count": 13,
   "id": "cbcf2d2d",
   "metadata": {},
   "outputs": [],
   "source": [
    "df_raw = df.copy()"
   ]
  },
  {
   "cell_type": "code",
   "execution_count": 14,
   "id": "24cd7c07",
   "metadata": {},
   "outputs": [
    {
     "data": {
      "text/plain": [
       "array(['group_notification', 'Saptamita Biswas', 'Massuma', 'Joyoshree',\n",
       "       'Joy Deb', 'Rajiv', 'Kangkana Sarma', 'Rajashree', 'Jintu',\n",
       "       '+91 86389 58910', 'Biswajit Ray😊😊🚩', 'Subham', 'Bornali', 'Puja',\n",
       "       '🅚🅐🅤🅢🅣🅐🅥', '+91 70028 21934', 'Bikrant', 'Najira', 'Anusmita',\n",
       "       'Somoyodeep', '+91 88119 26197', 'Deboshree', 'Abhi', 'Palki Aus',\n",
       "       '+91 80110 24161', '+91 93653 38805'], dtype=object)"
      ]
     },
     "execution_count": 14,
     "metadata": {},
     "output_type": "execute_result"
    }
   ],
   "source": [
    "df_raw.user.unique()"
   ]
  },
  {
   "cell_type": "code",
   "execution_count": 16,
   "id": "6e4f2203",
   "metadata": {},
   "outputs": [],
   "source": [
    "def preprocessor(data):\n",
    "    pattern = '\\d{1,2}\\/\\d{1,2}\\/\\d{2},\\s\\d{1,2}:\\d{2}\\s[AP]M\\s-\\s'\n",
    "\n",
    "    messages = re.split(pattern, data)\n",
    "    patterns = '\\d{1,2}\\/\\d{1,2}\\/\\d{2},\\s\\d{1,2}:\\d{2}\\s[AP]M'\n",
    "    dates = re.findall(patterns,data)\n",
    "    \n",
    "    df = pd.DataFrame({\"user_message\":messages[1:],\"message_date\":dates})\n",
    "\n",
    "    df[\"message_date\"] = pd.to_datetime(df[\"message_date\"])\n",
    "\n",
    "    df.rename(columns={\"message_date\": \"date\"}, inplace=True)\n",
    "\n",
    "    users = []\n",
    "    msgs = []\n",
    "    for msg in df[\"user_message\"]:\n",
    "        # Split the message by the first colon and space that occur\n",
    "        parts = re.split(': ', msg, maxsplit=1)\n",
    "        if len(parts) == 2:\n",
    "            user = parts[0]\n",
    "            message = parts[1]\n",
    "        else:\n",
    "            user = \"group_notification\"\n",
    "            message = parts[0]\n",
    "        users.append(user)\n",
    "        msgs.append(message)\n",
    "\n",
    "    df[\"user\"] = users\n",
    "    df[\"messages\"] = msgs\n",
    "\n",
    "    df.drop(columns=[\"user_message\"],inplace=True)\n",
    "    df[\"year\"]=df[\"date\"].dt.year\n",
    "    df[\"month\"]=df[\"date\"].dt.month_name()\n",
    "    df[\"day\"] = df[\"date\"].dt.day\n",
    "    df[\"hour\"]= df[\"date\"].dt.hour\n",
    "    df[\"minute\"]= df[\"date\"].dt.minute\n",
    "    \n",
    "    return df"
   ]
  },
  {
   "cell_type": "code",
   "execution_count": 18,
   "id": "642780f8",
   "metadata": {},
   "outputs": [
    {
     "data": {
      "text/html": [
       "<div>\n",
       "<style scoped>\n",
       "    .dataframe tbody tr th:only-of-type {\n",
       "        vertical-align: middle;\n",
       "    }\n",
       "\n",
       "    .dataframe tbody tr th {\n",
       "        vertical-align: top;\n",
       "    }\n",
       "\n",
       "    .dataframe thead th {\n",
       "        text-align: right;\n",
       "    }\n",
       "</style>\n",
       "<table border=\"1\" class=\"dataframe\">\n",
       "  <thead>\n",
       "    <tr style=\"text-align: right;\">\n",
       "      <th></th>\n",
       "      <th>date</th>\n",
       "      <th>user</th>\n",
       "      <th>messages</th>\n",
       "      <th>year</th>\n",
       "      <th>month</th>\n",
       "      <th>day</th>\n",
       "      <th>hour</th>\n",
       "      <th>minute</th>\n",
       "    </tr>\n",
       "  </thead>\n",
       "  <tbody>\n",
       "    <tr>\n",
       "      <th>0</th>\n",
       "      <td>2021-01-08 11:11:00</td>\n",
       "      <td>group_notification</td>\n",
       "      <td>Messages and calls are end-to-end encrypted. N...</td>\n",
       "      <td>2021</td>\n",
       "      <td>January</td>\n",
       "      <td>8</td>\n",
       "      <td>11</td>\n",
       "      <td>11</td>\n",
       "    </tr>\n",
       "    <tr>\n",
       "      <th>1</th>\n",
       "      <td>2021-01-02 10:32:00</td>\n",
       "      <td>group_notification</td>\n",
       "      <td>Saptamita Biswas created group \"M.stat 1st sem...</td>\n",
       "      <td>2021</td>\n",
       "      <td>January</td>\n",
       "      <td>2</td>\n",
       "      <td>10</td>\n",
       "      <td>32</td>\n",
       "    </tr>\n",
       "    <tr>\n",
       "      <th>2</th>\n",
       "      <td>2021-01-08 11:10:00</td>\n",
       "      <td>group_notification</td>\n",
       "      <td>Saptamita Biswas added you\\n</td>\n",
       "      <td>2021</td>\n",
       "      <td>January</td>\n",
       "      <td>8</td>\n",
       "      <td>11</td>\n",
       "      <td>10</td>\n",
       "    </tr>\n",
       "    <tr>\n",
       "      <th>3</th>\n",
       "      <td>2021-01-08 11:30:00</td>\n",
       "      <td>Saptamita Biswas</td>\n",
       "      <td>Hlo\\n</td>\n",
       "      <td>2021</td>\n",
       "      <td>January</td>\n",
       "      <td>8</td>\n",
       "      <td>11</td>\n",
       "      <td>30</td>\n",
       "    </tr>\n",
       "    <tr>\n",
       "      <th>4</th>\n",
       "      <td>2021-01-08 11:31:00</td>\n",
       "      <td>Saptamita Biswas</td>\n",
       "      <td>Jonali mam ne jo notes diya mam to unit 2&amp;3 mi...</td>\n",
       "      <td>2021</td>\n",
       "      <td>January</td>\n",
       "      <td>8</td>\n",
       "      <td>11</td>\n",
       "      <td>31</td>\n",
       "    </tr>\n",
       "  </tbody>\n",
       "</table>\n",
       "</div>"
      ],
      "text/plain": [
       "                 date                user  \\\n",
       "0 2021-01-08 11:11:00  group_notification   \n",
       "1 2021-01-02 10:32:00  group_notification   \n",
       "2 2021-01-08 11:10:00  group_notification   \n",
       "3 2021-01-08 11:30:00    Saptamita Biswas   \n",
       "4 2021-01-08 11:31:00    Saptamita Biswas   \n",
       "\n",
       "                                            messages  year    month  day  \\\n",
       "0  Messages and calls are end-to-end encrypted. N...  2021  January    8   \n",
       "1  Saptamita Biswas created group \"M.stat 1st sem...  2021  January    2   \n",
       "2                       Saptamita Biswas added you\\n  2021  January    8   \n",
       "3                                              Hlo\\n  2021  January    8   \n",
       "4  Jonali mam ne jo notes diya mam to unit 2&3 mi...  2021  January    8   \n",
       "\n",
       "   hour  minute  \n",
       "0    11      11  \n",
       "1    10      32  \n",
       "2    11      10  \n",
       "3    11      30  \n",
       "4    11      31  "
      ]
     },
     "execution_count": 18,
     "metadata": {},
     "output_type": "execute_result"
    }
   ],
   "source": [
    "df_date=preprocessor(data)\n",
    "df_date.head()"
   ]
  },
  {
   "cell_type": "code",
   "execution_count": 20,
   "id": "185698a4",
   "metadata": {},
   "outputs": [
    {
     "data": {
      "text/plain": [
       "0        Messages and calls are end-to-end encrypted. N...\n",
       "1        Saptamita Biswas created group \"M.stat 1st sem...\n",
       "2                             Saptamita Biswas added you\\n\n",
       "3                                                    Hlo\\n\n",
       "4        Jonali mam ne jo notes diya mam to unit 2&3 mi...\n",
       "                               ...                        \n",
       "25643                                              Kne??\\n\n",
       "25644                                    <Media omitted>\\n\n",
       "25645                                     Boi roisi emne\\n\n",
       "25646                                          Kam chara\\n\n",
       "25647                                   Eta to amro sme🤣\\n\n",
       "Name: messages, Length: 25648, dtype: object"
      ]
     },
     "execution_count": 20,
     "metadata": {},
     "output_type": "execute_result"
    }
   ],
   "source": [
    "df_date[\"messages\"]"
   ]
  },
  {
   "cell_type": "code",
   "execution_count": 22,
   "id": "8e10e3ca",
   "metadata": {},
   "outputs": [],
   "source": [
    "words=[]\n",
    "for messages in df_date[\"messages\"]:\n",
    "    words.extend(messages.split())"
   ]
  },
  {
   "cell_type": "code",
   "execution_count": 23,
   "id": "90e74e58",
   "metadata": {},
   "outputs": [
    {
     "data": {
      "text/plain": [
       "104307"
      ]
     },
     "execution_count": 23,
     "metadata": {},
     "output_type": "execute_result"
    }
   ],
   "source": [
    "len(words)"
   ]
  },
  {
   "cell_type": "code",
   "execution_count": 24,
   "id": "b733507d",
   "metadata": {},
   "outputs": [
    {
     "data": {
      "text/plain": [
       "(1681, 8)"
      ]
     },
     "execution_count": 24,
     "metadata": {},
     "output_type": "execute_result"
    }
   ],
   "source": [
    "df_date[df_date[\"messages\"] ==\"<Media omitted>\\n\"].shape"
   ]
  },
  {
   "cell_type": "code",
   "execution_count": 25,
   "id": "f542ddb8",
   "metadata": {},
   "outputs": [],
   "source": [
    "from urlextract import URLExtract\n",
    "extractor=URLExtract()"
   ]
  },
  {
   "cell_type": "code",
   "execution_count": 26,
   "id": "0357cc4c",
   "metadata": {},
   "outputs": [
    {
     "data": {
      "text/plain": [
       "0        Messages and calls are end-to-end encrypted. N...\n",
       "1        Saptamita Biswas created group \"M.stat 1st sem...\n",
       "2                             Saptamita Biswas added you\\n\n",
       "3                                                    Hlo\\n\n",
       "4        Jonali mam ne jo notes diya mam to unit 2&3 mi...\n",
       "                               ...                        \n",
       "25643                                              Kne??\\n\n",
       "25644                                    <Media omitted>\\n\n",
       "25645                                     Boi roisi emne\\n\n",
       "25646                                          Kam chara\\n\n",
       "25647                                   Eta to amro sme🤣\\n\n",
       "Name: messages, Length: 25648, dtype: object"
      ]
     },
     "execution_count": 26,
     "metadata": {},
     "output_type": "execute_result"
    }
   ],
   "source": [
    "df_date[\"messages\"]"
   ]
  },
  {
   "cell_type": "code",
   "execution_count": 28,
   "id": "21b72a04",
   "metadata": {},
   "outputs": [],
   "source": [
    "links = []\n",
    "\n",
    "for messages in df_date[\"messages\"]:\n",
    "    links.extend(extractor.find_urls(messages))"
   ]
  },
  {
   "cell_type": "code",
   "execution_count": 29,
   "id": "7bb274e9",
   "metadata": {},
   "outputs": [
    {
     "data": {
      "text/plain": [
       "['B.Sc',\n",
       " 'https://youtu.be/wuK98O7MSWQ',\n",
       " 'https://meet.google.com/wjv-frdt-ahb?hs=224',\n",
       " 'https://meet.google.com/qfz-rqmj-knq',\n",
       " 'meet.google.com/qvq-zzjv-wis',\n",
       " 'https://chat.whatsapp.com/EE2hS3PpxJTGuY8ONVciBT',\n",
       " 'https://meet.google.com/dep-vsns-rxt',\n",
       " 'https://youtu.be/MNjf6V5NI8A',\n",
       " 'http://forms.gle/ZKtNpLSWWqX3BefWA']"
      ]
     },
     "execution_count": 29,
     "metadata": {},
     "output_type": "execute_result"
    }
   ],
   "source": [
    "links[1:10]"
   ]
  },
  {
   "cell_type": "code",
   "execution_count": 31,
   "id": "1ad52107",
   "metadata": {},
   "outputs": [],
   "source": [
    "x= df_date[\"user\"].value_counts().head()"
   ]
  },
  {
   "cell_type": "code",
   "execution_count": 32,
   "id": "8a81be68",
   "metadata": {},
   "outputs": [],
   "source": [
    "import matplotlib.pyplot as plt"
   ]
  },
  {
   "cell_type": "code",
   "execution_count": 33,
   "id": "26f27d70",
   "metadata": {},
   "outputs": [],
   "source": [
    "name = x.index\n",
    "count = x.values"
   ]
  },
  {
   "cell_type": "code",
   "execution_count": 34,
   "id": "aec8cdc5",
   "metadata": {},
   "outputs": [
    {
     "data": {
      "image/png": "[encoded data removed]",
      "text/plain": [
       "<Figure size 640x480 with 1 Axes>"
      ]
     },
     "metadata": {},
     "output_type": "display_data"
    }
   ],
   "source": [
    "plt.bar(name, count)\n",
    "plt.xticks(rotation=\"vertical\")\n",
    "plt.show()"
   ]
  },
  {
   "cell_type": "code",
   "execution_count": 37,
   "id": "f9470bf5",
   "metadata": {},
   "outputs": [
    {
     "data": {
      "text/html": [
       "<div>\n",
       "<style scoped>\n",
       "    .dataframe tbody tr th:only-of-type {\n",
       "        vertical-align: middle;\n",
       "    }\n",
       "\n",
       "    .dataframe tbody tr th {\n",
       "        vertical-align: top;\n",
       "    }\n",
       "\n",
       "    .dataframe thead th {\n",
       "        text-align: right;\n",
       "    }\n",
       "</style>\n",
       "<table border=\"1\" class=\"dataframe\">\n",
       "  <thead>\n",
       "    <tr style=\"text-align: right;\">\n",
       "      <th></th>\n",
       "      <th>percent</th>\n",
       "      <th>count</th>\n",
       "    </tr>\n",
       "  </thead>\n",
       "  <tbody>\n",
       "    <tr>\n",
       "      <th>0</th>\n",
       "      <td>Rajiv</td>\n",
       "      <td>13.02</td>\n",
       "    </tr>\n",
       "    <tr>\n",
       "      <th>1</th>\n",
       "      <td>Kangkana Sarma</td>\n",
       "      <td>10.76</td>\n",
       "    </tr>\n",
       "    <tr>\n",
       "      <th>2</th>\n",
       "      <td>🅚🅐🅤🅢🅣🅐🅥</td>\n",
       "      <td>10.76</td>\n",
       "    </tr>\n",
       "    <tr>\n",
       "      <th>3</th>\n",
       "      <td>Joy Deb</td>\n",
       "      <td>10.52</td>\n",
       "    </tr>\n",
       "    <tr>\n",
       "      <th>4</th>\n",
       "      <td>Bikrant</td>\n",
       "      <td>8.36</td>\n",
       "    </tr>\n",
       "    <tr>\n",
       "      <th>5</th>\n",
       "      <td>Massuma</td>\n",
       "      <td>8.03</td>\n",
       "    </tr>\n",
       "    <tr>\n",
       "      <th>6</th>\n",
       "      <td>Subham</td>\n",
       "      <td>6.53</td>\n",
       "    </tr>\n",
       "    <tr>\n",
       "      <th>7</th>\n",
       "      <td>Saptamita Biswas</td>\n",
       "      <td>6.37</td>\n",
       "    </tr>\n",
       "    <tr>\n",
       "      <th>8</th>\n",
       "      <td>Somoyodeep</td>\n",
       "      <td>6.28</td>\n",
       "    </tr>\n",
       "    <tr>\n",
       "      <th>9</th>\n",
       "      <td>Najira</td>\n",
       "      <td>5.50</td>\n",
       "    </tr>\n",
       "    <tr>\n",
       "      <th>10</th>\n",
       "      <td>Joyoshree</td>\n",
       "      <td>2.84</td>\n",
       "    </tr>\n",
       "    <tr>\n",
       "      <th>11</th>\n",
       "      <td>Puja</td>\n",
       "      <td>2.64</td>\n",
       "    </tr>\n",
       "    <tr>\n",
       "      <th>12</th>\n",
       "      <td>Rajashree</td>\n",
       "      <td>1.69</td>\n",
       "    </tr>\n",
       "    <tr>\n",
       "      <th>13</th>\n",
       "      <td>Jintu</td>\n",
       "      <td>1.43</td>\n",
       "    </tr>\n",
       "    <tr>\n",
       "      <th>14</th>\n",
       "      <td>Anusmita</td>\n",
       "      <td>1.34</td>\n",
       "    </tr>\n",
       "    <tr>\n",
       "      <th>15</th>\n",
       "      <td>+91 70028 21934</td>\n",
       "      <td>1.03</td>\n",
       "    </tr>\n",
       "    <tr>\n",
       "      <th>16</th>\n",
       "      <td>Bornali</td>\n",
       "      <td>0.90</td>\n",
       "    </tr>\n",
       "    <tr>\n",
       "      <th>17</th>\n",
       "      <td>+91 86389 58910</td>\n",
       "      <td>0.45</td>\n",
       "    </tr>\n",
       "    <tr>\n",
       "      <th>18</th>\n",
       "      <td>Deboshree</td>\n",
       "      <td>0.43</td>\n",
       "    </tr>\n",
       "    <tr>\n",
       "      <th>19</th>\n",
       "      <td>Biswajit Ray😊😊🚩</td>\n",
       "      <td>0.35</td>\n",
       "    </tr>\n",
       "    <tr>\n",
       "      <th>20</th>\n",
       "      <td>+91 88119 26197</td>\n",
       "      <td>0.34</td>\n",
       "    </tr>\n",
       "    <tr>\n",
       "      <th>21</th>\n",
       "      <td>group_notification</td>\n",
       "      <td>0.21</td>\n",
       "    </tr>\n",
       "    <tr>\n",
       "      <th>22</th>\n",
       "      <td>Palki Aus</td>\n",
       "      <td>0.10</td>\n",
       "    </tr>\n",
       "    <tr>\n",
       "      <th>23</th>\n",
       "      <td>Abhi</td>\n",
       "      <td>0.08</td>\n",
       "    </tr>\n",
       "    <tr>\n",
       "      <th>24</th>\n",
       "      <td>+91 80110 24161</td>\n",
       "      <td>0.03</td>\n",
       "    </tr>\n",
       "    <tr>\n",
       "      <th>25</th>\n",
       "      <td>+91 93653 38805</td>\n",
       "      <td>0.01</td>\n",
       "    </tr>\n",
       "  </tbody>\n",
       "</table>\n",
       "</div>"
      ],
      "text/plain": [
       "               percent  count\n",
       "0                Rajiv  13.02\n",
       "1       Kangkana Sarma  10.76\n",
       "2              🅚🅐🅤🅢🅣🅐🅥  10.76\n",
       "3              Joy Deb  10.52\n",
       "4              Bikrant   8.36\n",
       "5              Massuma   8.03\n",
       "6               Subham   6.53\n",
       "7     Saptamita Biswas   6.37\n",
       "8           Somoyodeep   6.28\n",
       "9               Najira   5.50\n",
       "10           Joyoshree   2.84\n",
       "11                Puja   2.64\n",
       "12           Rajashree   1.69\n",
       "13               Jintu   1.43\n",
       "14            Anusmita   1.34\n",
       "15     +91 70028 21934   1.03\n",
       "16             Bornali   0.90\n",
       "17     +91 86389 58910   0.45\n",
       "18           Deboshree   0.43\n",
       "19     Biswajit Ray😊😊🚩   0.35\n",
       "20     +91 88119 26197   0.34\n",
       "21  group_notification   0.21\n",
       "22           Palki Aus   0.10\n",
       "23                Abhi   0.08\n",
       "24     +91 80110 24161   0.03\n",
       "25     +91 93653 38805   0.01"
      ]
     },
     "execution_count": 37,
     "metadata": {},
     "output_type": "execute_result"
    }
   ],
   "source": [
    "round((df_date[\"user\"].value_counts()/df_date.shape[0])*100,2).reset_index().rename(columns={\"index\":\"name\",\"user\":\"percent\"})"
   ]
  },
  {
   "cell_type": "code",
   "execution_count": 38,
   "id": "97afe899",
   "metadata": {},
   "outputs": [],
   "source": [
    "from wordcloud import WordCloud"
   ]
  },
  {
   "cell_type": "code",
   "execution_count": 40,
   "id": "19bc85e2",
   "metadata": {},
   "outputs": [
    {
     "data": {
      "text/html": [
       "<div>\n",
       "<style scoped>\n",
       "    .dataframe tbody tr th:only-of-type {\n",
       "        vertical-align: middle;\n",
       "    }\n",
       "\n",
       "    .dataframe tbody tr th {\n",
       "        vertical-align: top;\n",
       "    }\n",
       "\n",
       "    .dataframe thead th {\n",
       "        text-align: right;\n",
       "    }\n",
       "</style>\n",
       "<table border=\"1\" class=\"dataframe\">\n",
       "  <thead>\n",
       "    <tr style=\"text-align: right;\">\n",
       "      <th></th>\n",
       "      <th>index</th>\n",
       "      <th>messages</th>\n",
       "    </tr>\n",
       "  </thead>\n",
       "  <tbody>\n",
       "    <tr>\n",
       "      <th>0</th>\n",
       "      <td>0</td>\n",
       "      <td>Messages and calls are end-to-end encrypted. N...</td>\n",
       "    </tr>\n",
       "    <tr>\n",
       "      <th>1</th>\n",
       "      <td>1</td>\n",
       "      <td>Saptamita Biswas created group \"M.stat 1st sem...</td>\n",
       "    </tr>\n",
       "    <tr>\n",
       "      <th>2</th>\n",
       "      <td>2</td>\n",
       "      <td>Saptamita Biswas added you\\n</td>\n",
       "    </tr>\n",
       "    <tr>\n",
       "      <th>3</th>\n",
       "      <td>3</td>\n",
       "      <td>Hlo\\n</td>\n",
       "    </tr>\n",
       "    <tr>\n",
       "      <th>4</th>\n",
       "      <td>4</td>\n",
       "      <td>Jonali mam ne jo notes diya mam to unit 2&amp;3 mi...</td>\n",
       "    </tr>\n",
       "    <tr>\n",
       "      <th>...</th>\n",
       "      <td>...</td>\n",
       "      <td>...</td>\n",
       "    </tr>\n",
       "    <tr>\n",
       "      <th>25643</th>\n",
       "      <td>25643</td>\n",
       "      <td>Kne??\\n</td>\n",
       "    </tr>\n",
       "    <tr>\n",
       "      <th>25644</th>\n",
       "      <td>25644</td>\n",
       "      <td>&lt;Media omitted&gt;\\n</td>\n",
       "    </tr>\n",
       "    <tr>\n",
       "      <th>25645</th>\n",
       "      <td>25645</td>\n",
       "      <td>Boi roisi emne\\n</td>\n",
       "    </tr>\n",
       "    <tr>\n",
       "      <th>25646</th>\n",
       "      <td>25646</td>\n",
       "      <td>Kam chara\\n</td>\n",
       "    </tr>\n",
       "    <tr>\n",
       "      <th>25647</th>\n",
       "      <td>25647</td>\n",
       "      <td>Eta to amro sme🤣\\n</td>\n",
       "    </tr>\n",
       "  </tbody>\n",
       "</table>\n",
       "<p>25648 rows × 2 columns</p>\n",
       "</div>"
      ],
      "text/plain": [
       "       index                                           messages\n",
       "0          0  Messages and calls are end-to-end encrypted. N...\n",
       "1          1  Saptamita Biswas created group \"M.stat 1st sem...\n",
       "2          2                       Saptamita Biswas added you\\n\n",
       "3          3                                              Hlo\\n\n",
       "4          4  Jonali mam ne jo notes diya mam to unit 2&3 mi...\n",
       "...      ...                                                ...\n",
       "25643  25643                                            Kne??\\n\n",
       "25644  25644                                  <Media omitted>\\n\n",
       "25645  25645                                   Boi roisi emne\\n\n",
       "25646  25646                                        Kam chara\\n\n",
       "25647  25647                                 Eta to amro sme🤣\\n\n",
       "\n",
       "[25648 rows x 2 columns]"
      ]
     },
     "execution_count": 40,
     "metadata": {},
     "output_type": "execute_result"
    }
   ],
   "source": [
    "df_date[\"messages\"].reset_index()"
   ]
  },
  {
   "cell_type": "code",
   "execution_count": 42,
   "id": "6a45f14a",
   "metadata": {},
   "outputs": [],
   "source": [
    "df_date[\"messages\"].replace(\"<Media omitted>\",\"\",inplace=True)"
   ]
  },
  {
   "cell_type": "code",
   "execution_count": 44,
   "id": "1c21260c",
   "metadata": {},
   "outputs": [
    {
     "data": {
      "text/plain": [
       "0        Messages and calls are end-to-end encrypted. N...\n",
       "1        Saptamita Biswas created group \"M.stat 1st sem...\n",
       "2                             Saptamita Biswas added you\\n\n",
       "3                                                    Hlo\\n\n",
       "4        Jonali mam ne jo notes diya mam to unit 2&3 mi...\n",
       "                               ...                        \n",
       "25643                                              Kne??\\n\n",
       "25644                                    <Media omitted>\\n\n",
       "25645                                     Boi roisi emne\\n\n",
       "25646                                          Kam chara\\n\n",
       "25647                                   Eta to amro sme🤣\\n\n",
       "Name: messages, Length: 25648, dtype: object"
      ]
     },
     "execution_count": 44,
     "metadata": {},
     "output_type": "execute_result"
    }
   ],
   "source": [
    "df_date[\"messages\"]"
   ]
  },
  {
   "cell_type": "code",
   "execution_count": 46,
   "id": "1ef5e4dd",
   "metadata": {},
   "outputs": [],
   "source": [
    "temp=df_date[\"messages\"].replace(\"<Media omitted>\\n\", \"\")"
   ]
  },
  {
   "cell_type": "code",
   "execution_count": 47,
   "id": "b9480c5a",
   "metadata": {},
   "outputs": [],
   "source": [
    "#df = df[df[\"user\"]== \"Abh\"]\n",
    "\n",
    "wc= WordCloud(width=500, height=500, min_font_size=10, background_color=\"white\")\n",
    "df_wc= wc.generate(temp.str.cat(sep=\" \"))"
   ]
  },
  {
   "cell_type": "code",
   "execution_count": 48,
   "id": "cd1a9e3a",
   "metadata": {},
   "outputs": [
    {
     "data": {
      "text/plain": [
       "<wordcloud.wordcloud.WordCloud at 0x2a4787dd1e0>"
      ]
     },
     "execution_count": 48,
     "metadata": {},
     "output_type": "execute_result"
    }
   ],
   "source": [
    "df_wc"
   ]
  },
  {
   "cell_type": "code",
   "execution_count": 49,
   "id": "6ad6e735",
   "metadata": {},
   "outputs": [],
   "source": [
    "import matplotlib.pyplot as plt"
   ]
  },
  {
   "cell_type": "code",
   "execution_count": 50,
   "id": "a64a58bb",
   "metadata": {},
   "outputs": [
    {
     "data": {
      "text/plain": [
       "<matplotlib.image.AxesImage at 0x2a4787de080>"
      ]
     },
     "execution_count": 50,
     "metadata": {},
     "output_type": "execute_result"
    },
    {
     "data": {
      "image/png": "[encoded data removed]",
      "text/plain": [
       "<Figure size 640x480 with 1 Axes>"
      ]
     },
     "metadata": {},
     "output_type": "display_data"
    }
   ],
   "source": [
    "plt.imshow(df_wc)"
   ]
  },
  {
   "cell_type": "code",
   "execution_count": 52,
   "id": "59d207ea",
   "metadata": {},
   "outputs": [],
   "source": [
    "words = []\n",
    "\n",
    "for message in df_date[\"messages\"]:\n",
    "    words.extend(message.split())"
   ]
  },
  {
   "cell_type": "code",
   "execution_count": 53,
   "id": "1828eb14",
   "metadata": {},
   "outputs": [
    {
     "data": {
      "text/html": [
       "<div>\n",
       "<style scoped>\n",
       "    .dataframe tbody tr th:only-of-type {\n",
       "        vertical-align: middle;\n",
       "    }\n",
       "\n",
       "    .dataframe tbody tr th {\n",
       "        vertical-align: top;\n",
       "    }\n",
       "\n",
       "    .dataframe thead th {\n",
       "        text-align: right;\n",
       "    }\n",
       "</style>\n",
       "<table border=\"1\" class=\"dataframe\">\n",
       "  <thead>\n",
       "    <tr style=\"text-align: right;\">\n",
       "      <th></th>\n",
       "      <th>0</th>\n",
       "      <th>1</th>\n",
       "    </tr>\n",
       "  </thead>\n",
       "  <tbody>\n",
       "    <tr>\n",
       "      <th>0</th>\n",
       "      <td>na</td>\n",
       "      <td>1738</td>\n",
       "    </tr>\n",
       "    <tr>\n",
       "      <th>1</th>\n",
       "      <td>&lt;Media</td>\n",
       "      <td>1681</td>\n",
       "    </tr>\n",
       "    <tr>\n",
       "      <th>2</th>\n",
       "      <td>omitted&gt;</td>\n",
       "      <td>1681</td>\n",
       "    </tr>\n",
       "    <tr>\n",
       "      <th>3</th>\n",
       "      <td>o</td>\n",
       "      <td>969</td>\n",
       "    </tr>\n",
       "    <tr>\n",
       "      <th>4</th>\n",
       "      <td>to</td>\n",
       "      <td>831</td>\n",
       "    </tr>\n",
       "    <tr>\n",
       "      <th>5</th>\n",
       "      <td>toh</td>\n",
       "      <td>807</td>\n",
       "    </tr>\n",
       "    <tr>\n",
       "      <th>6</th>\n",
       "      <td>e</td>\n",
       "      <td>773</td>\n",
       "    </tr>\n",
       "    <tr>\n",
       "      <th>7</th>\n",
       "      <td>sir</td>\n",
       "      <td>663</td>\n",
       "    </tr>\n",
       "    <tr>\n",
       "      <th>8</th>\n",
       "      <td>🤣</td>\n",
       "      <td>661</td>\n",
       "    </tr>\n",
       "    <tr>\n",
       "      <th>9</th>\n",
       "      <td>a</td>\n",
       "      <td>633</td>\n",
       "    </tr>\n",
       "    <tr>\n",
       "      <th>10</th>\n",
       "      <td>re</td>\n",
       "      <td>607</td>\n",
       "    </tr>\n",
       "    <tr>\n",
       "      <th>11</th>\n",
       "      <td>class</td>\n",
       "      <td>598</td>\n",
       "    </tr>\n",
       "    <tr>\n",
       "      <th>12</th>\n",
       "      <td>Oy</td>\n",
       "      <td>574</td>\n",
       "    </tr>\n",
       "    <tr>\n",
       "      <th>13</th>\n",
       "      <td>ni</td>\n",
       "      <td>538</td>\n",
       "    </tr>\n",
       "    <tr>\n",
       "      <th>14</th>\n",
       "      <td>nhi</td>\n",
       "      <td>530</td>\n",
       "    </tr>\n",
       "    <tr>\n",
       "      <th>15</th>\n",
       "      <td>ko</td>\n",
       "      <td>524</td>\n",
       "    </tr>\n",
       "    <tr>\n",
       "      <th>16</th>\n",
       "      <td>er</td>\n",
       "      <td>500</td>\n",
       "    </tr>\n",
       "    <tr>\n",
       "      <th>17</th>\n",
       "      <td>ka</td>\n",
       "      <td>487</td>\n",
       "    </tr>\n",
       "    <tr>\n",
       "      <th>18</th>\n",
       "      <td>🥲</td>\n",
       "      <td>470</td>\n",
       "    </tr>\n",
       "    <tr>\n",
       "      <th>19</th>\n",
       "      <td>hain</td>\n",
       "      <td>459</td>\n",
       "    </tr>\n",
       "  </tbody>\n",
       "</table>\n",
       "</div>"
      ],
      "text/plain": [
       "           0     1\n",
       "0         na  1738\n",
       "1     <Media  1681\n",
       "2   omitted>  1681\n",
       "3          o   969\n",
       "4         to   831\n",
       "5        toh   807\n",
       "6          e   773\n",
       "7        sir   663\n",
       "8          🤣   661\n",
       "9          a   633\n",
       "10        re   607\n",
       "11     class   598\n",
       "12        Oy   574\n",
       "13        ni   538\n",
       "14       nhi   530\n",
       "15        ko   524\n",
       "16        er   500\n",
       "17        ka   487\n",
       "18         🥲   470\n",
       "19      hain   459"
      ]
     },
     "execution_count": 53,
     "metadata": {},
     "output_type": "execute_result"
    }
   ],
   "source": [
    "from collections import Counter\n",
    "pd.DataFrame(Counter(words).most_common(20))"
   ]
  },
  {
   "cell_type": "code",
   "execution_count": 14,
   "id": "c55cc84e",
   "metadata": {},
   "outputs": [],
   "source": [
    "# stopwords\n",
    "# groups messages\n",
    "# groups notification"
   ]
  },
  {
   "cell_type": "code",
   "execution_count": 55,
   "id": "1c4bfe78",
   "metadata": {},
   "outputs": [
    {
     "data": {
      "text/plain": [
       "0        group_notification\n",
       "1        group_notification\n",
       "2        group_notification\n",
       "3          Saptamita Biswas\n",
       "4          Saptamita Biswas\n",
       "                ...        \n",
       "25643            Somoyodeep\n",
       "25644               🅚🅐🅤🅢🅣🅐🅥\n",
       "25645               🅚🅐🅤🅢🅣🅐🅥\n",
       "25646               🅚🅐🅤🅢🅣🅐🅥\n",
       "25647            Somoyodeep\n",
       "Name: user, Length: 25648, dtype: object"
      ]
     },
     "execution_count": 55,
     "metadata": {},
     "output_type": "execute_result"
    }
   ],
   "source": [
    "df_date[\"user\"]"
   ]
  },
  {
   "cell_type": "code",
   "execution_count": 57,
   "id": "68ae7b55",
   "metadata": {},
   "outputs": [],
   "source": [
    "temp = df_date[df_date[\"user\"] != \"group_notification\"]"
   ]
  },
  {
   "cell_type": "code",
   "execution_count": 58,
   "id": "8533a966",
   "metadata": {},
   "outputs": [],
   "source": [
    "temp = temp[temp[\"messages\"] != \"<media omiited>\\n\"]"
   ]
  },
  {
   "cell_type": "code",
   "execution_count": 59,
   "id": "6bdbe95c",
   "metadata": {},
   "outputs": [],
   "source": [
    "f= open(\"stopwords_hinglish.txt\",\"r\")\n",
    "stop_words = f.read()\n"
   ]
  },
  {
   "cell_type": "code",
   "execution_count": 60,
   "id": "f2661ffc",
   "metadata": {},
   "outputs": [],
   "source": [
    "words = []\n",
    "\n",
    "for message in temp[\"messages\"]:\n",
    "    for word in message.lower().split():\n",
    "        if word not in stop_words:\n",
    "            words.append(word)\n",
    "    words.extend(message.split())"
   ]
  },
  {
   "cell_type": "code",
   "execution_count": 61,
   "id": "a5a920c4",
   "metadata": {},
   "outputs": [
    {
     "data": {
      "text/html": [
       "<div>\n",
       "<style scoped>\n",
       "    .dataframe tbody tr th:only-of-type {\n",
       "        vertical-align: middle;\n",
       "    }\n",
       "\n",
       "    .dataframe tbody tr th {\n",
       "        vertical-align: top;\n",
       "    }\n",
       "\n",
       "    .dataframe thead th {\n",
       "        text-align: right;\n",
       "    }\n",
       "</style>\n",
       "<table border=\"1\" class=\"dataframe\">\n",
       "  <thead>\n",
       "    <tr style=\"text-align: right;\">\n",
       "      <th></th>\n",
       "      <th>0</th>\n",
       "      <th>1</th>\n",
       "    </tr>\n",
       "  </thead>\n",
       "  <tbody>\n",
       "    <tr>\n",
       "      <th>0</th>\n",
       "      <td>omitted&gt;</td>\n",
       "      <td>3362</td>\n",
       "    </tr>\n",
       "    <tr>\n",
       "      <th>1</th>\n",
       "      <td>na</td>\n",
       "      <td>1738</td>\n",
       "    </tr>\n",
       "    <tr>\n",
       "      <th>2</th>\n",
       "      <td>&lt;media</td>\n",
       "      <td>1681</td>\n",
       "    </tr>\n",
       "    <tr>\n",
       "      <th>3</th>\n",
       "      <td>&lt;Media</td>\n",
       "      <td>1681</td>\n",
       "    </tr>\n",
       "    <tr>\n",
       "      <th>4</th>\n",
       "      <td>🤣</td>\n",
       "      <td>1322</td>\n",
       "    </tr>\n",
       "    <tr>\n",
       "      <th>5</th>\n",
       "      <td>class</td>\n",
       "      <td>1262</td>\n",
       "    </tr>\n",
       "    <tr>\n",
       "      <th>6</th>\n",
       "      <td>ami</td>\n",
       "      <td>1110</td>\n",
       "    </tr>\n",
       "    <tr>\n",
       "      <th>7</th>\n",
       "      <td>o</td>\n",
       "      <td>969</td>\n",
       "    </tr>\n",
       "    <tr>\n",
       "      <th>8</th>\n",
       "      <td>🥲</td>\n",
       "      <td>940</td>\n",
       "    </tr>\n",
       "    <tr>\n",
       "      <th>9</th>\n",
       "      <td>❤️</td>\n",
       "      <td>918</td>\n",
       "    </tr>\n",
       "    <tr>\n",
       "      <th>10</th>\n",
       "      <td>to</td>\n",
       "      <td>814</td>\n",
       "    </tr>\n",
       "    <tr>\n",
       "      <th>11</th>\n",
       "      <td>toh</td>\n",
       "      <td>807</td>\n",
       "    </tr>\n",
       "    <tr>\n",
       "      <th>12</th>\n",
       "      <td>e</td>\n",
       "      <td>773</td>\n",
       "    </tr>\n",
       "    <tr>\n",
       "      <th>13</th>\n",
       "      <td>😂</td>\n",
       "      <td>768</td>\n",
       "    </tr>\n",
       "    <tr>\n",
       "      <th>14</th>\n",
       "      <td>sir</td>\n",
       "      <td>663</td>\n",
       "    </tr>\n",
       "    <tr>\n",
       "      <th>15</th>\n",
       "      <td>kita</td>\n",
       "      <td>638</td>\n",
       "    </tr>\n",
       "    <tr>\n",
       "      <th>16</th>\n",
       "      <td>a</td>\n",
       "      <td>629</td>\n",
       "    </tr>\n",
       "    <tr>\n",
       "      <th>17</th>\n",
       "      <td>re</td>\n",
       "      <td>607</td>\n",
       "    </tr>\n",
       "    <tr>\n",
       "      <th>18</th>\n",
       "      <td>Oy</td>\n",
       "      <td>574</td>\n",
       "    </tr>\n",
       "    <tr>\n",
       "      <th>19</th>\n",
       "      <td>mam</td>\n",
       "      <td>571</td>\n",
       "    </tr>\n",
       "  </tbody>\n",
       "</table>\n",
       "</div>"
      ],
      "text/plain": [
       "           0     1\n",
       "0   omitted>  3362\n",
       "1         na  1738\n",
       "2     <media  1681\n",
       "3     <Media  1681\n",
       "4          🤣  1322\n",
       "5      class  1262\n",
       "6        ami  1110\n",
       "7          o   969\n",
       "8          🥲   940\n",
       "9         ❤️   918\n",
       "10        to   814\n",
       "11       toh   807\n",
       "12         e   773\n",
       "13         😂   768\n",
       "14       sir   663\n",
       "15      kita   638\n",
       "16         a   629\n",
       "17        re   607\n",
       "18        Oy   574\n",
       "19       mam   571"
      ]
     },
     "execution_count": 61,
     "metadata": {},
     "output_type": "execute_result"
    }
   ],
   "source": [
    "from collections import Counter\n",
    "pd.DataFrame(Counter(words).most_common(20))"
   ]
  },
  {
   "cell_type": "code",
   "execution_count": null,
   "id": "9b5ed100",
   "metadata": {},
   "outputs": [],
   "source": []
  },
  {
   "cell_type": "code",
   "execution_count": null,
   "id": "1590562a",
   "metadata": {},
   "outputs": [],
   "source": []
  },
  {
   "cell_type": "code",
   "execution_count": null,
   "id": "7ebf66a5",
   "metadata": {},
   "outputs": [],
   "source": []
  },
  {
   "cell_type": "code",
   "execution_count": null,
   "id": "db3fbf4c",
   "metadata": {},
   "outputs": [],
   "source": []
  },
  {
   "cell_type": "code",
   "execution_count": null,
   "id": "49113c02",
   "metadata": {},
   "outputs": [],
   "source": []
  },
  {
   "cell_type": "code",
   "execution_count": null,
   "id": "2f3571eb",
   "metadata": {},
   "outputs": [],
   "source": []
  },
  {
   "cell_type": "code",
   "execution_count": null,
   "id": "669fd598",
   "metadata": {},
   "outputs": [],
   "source": []
  },
  {
   "cell_type": "code",
   "execution_count": null,
   "id": "39ef581d",
   "metadata": {},
   "outputs": [],
   "source": []
  },
  {
   "cell_type": "code",
   "execution_count": null,
   "id": "3e498ac2",
   "metadata": {},
   "outputs": [],
   "source": []
  },
  {
   "cell_type": "code",
   "execution_count": null,
   "id": "0d33e8a1",
   "metadata": {},
   "outputs": [],
   "source": []
  }
 ],
 "metadata": {
  "kernelspec": {
   "display_name": "Python 3 (ipykernel)",
   "language": "python",
   "name": "python3"
  },
  "language_info": {
   "codemirror_mode": {
    "name": "ipython",
    "version": 3
   },
   "file_extension": ".py",
   "mimetype": "text/x-python",
   "name": "python",
   "nbconvert_exporter": "python",
   "pygments_lexer": "ipython3",
   "version": "3.10.9"
  }
 },
 "nbformat": 4,
 "nbformat_minor": 5
}
